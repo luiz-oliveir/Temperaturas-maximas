{
  "cells": [
    {
      "cell_type": "code",
      "source": [
        "!git clone https://github.com/luiz-oliveir/Temperaturas-maximas.git"
      ],
      "metadata": {
        "id": "T7xZI_mR9MgR",
        "outputId": "e3fbb748-2ff8-4056-c146-918a4ea58fd5",
        "colab": {
          "base_uri": "https://localhost:8080/"
        }
      },
      "id": "T7xZI_mR9MgR",
      "execution_count": 1,
      "outputs": [
        {
          "output_type": "stream",
          "name": "stdout",
          "text": [
            "Cloning into 'Temperaturas-maximas'...\n",
            "remote: Enumerating objects: 14, done.\u001b[K\n",
            "remote: Counting objects: 100% (14/14), done.\u001b[K\n",
            "remote: Compressing objects: 100% (12/12), done.\u001b[K\n",
            "remote: Total 14 (delta 0), reused 0 (delta 0), pack-reused 0 (from 0)\u001b[K\n",
            "Receiving objects: 100% (14/14), 25.67 KiB | 821.00 KiB/s, done.\n"
          ]
        }
      ]
    },
    {
      "cell_type": "code",
      "source": [
        "!mkdir luiz-oliveir/Temperaturas-maximas"
      ],
      "metadata": {
        "id": "d7_5pVsg9joG",
        "outputId": "fd09b3f9-6762-4981-a247-4566efd84573",
        "colab": {
          "base_uri": "https://localhost:8080/"
        }
      },
      "id": "d7_5pVsg9joG",
      "execution_count": 8,
      "outputs": [
        {
          "output_type": "stream",
          "name": "stdout",
          "text": [
            "mkdir: cannot create directory ‘luiz-oliveir/Temperaturas-maximas’: No such file or directory\n"
          ]
        }
      ]
    },
    {
      "cell_type": "code",
      "source": [
        "# Change to the correct directory\n",
        "%cd luiz-oliveir/Temperaturas-maximas"
      ],
      "metadata": {
        "id": "Wh6q84ae9WlG",
        "outputId": "f705065c-feaa-48f0-8816-c84af4990950",
        "colab": {
          "base_uri": "https://localhost:8080/"
        }
      },
      "id": "Wh6q84ae9WlG",
      "execution_count": 9,
      "outputs": [
        {
          "output_type": "stream",
          "name": "stdout",
          "text": [
            "[Errno 2] No such file or directory: 'luiz-oliveir/Temperaturas-maximas'\n",
            "/content\n"
          ]
        }
      ]
    },
    {
      "cell_type": "code",
      "source": [],
      "metadata": {
        "id": "tj6EFQxv9TUG"
      },
      "id": "tj6EFQxv9TUG",
      "execution_count": null,
      "outputs": []
    },
    {
      "cell_type": "code",
      "execution_count": 7,
      "id": "4d4a71a0-c02e-4670-847c-6f6e74e52881",
      "metadata": {
        "id": "4d4a71a0-c02e-4670-847c-6f6e74e52881",
        "outputId": "a32cde30-9835-4037-ef9f-8699e865968c",
        "colab": {
          "base_uri": "https://localhost:8080/"
        }
      },
      "outputs": [
        {
          "output_type": "stream",
          "name": "stdout",
          "text": [
            "Running in Google Colab environment\n",
            "Cloning repository...\n",
            "Executando comando: git clone https://github.com/paya54/Anomaly_Detect_LSTM_VAE.git\n",
            "Output: \n",
            "Repository cloned successfully\n",
            "Checking Colab path: /content/Anomaly_Detect_LSTM_VAE\n",
            "Path exists: True\n",
            "Requirements file exists: False\n",
            "Project directory not found in Colab\n",
            "Current directory: /content/Anomaly_Detect_LSTM_VAE\n",
            "Directory contents: ['.git', 'LICENSE', 'lstm_vae.py', 'README.md', 'config.json']\n",
            "Failed to locate project directory\n"
          ]
        }
      ],
      "source": [
        "import sys\n",
        "import os\n",
        "import subprocess\n",
        "import shutil\n",
        "from pathlib import Path\n",
        "import time\n",
        "\n",
        "# Check if running in Colab\n",
        "try:\n",
        "    import google.colab\n",
        "    IN_COLAB = True\n",
        "except ImportError:\n",
        "    IN_COLAB = False\n",
        "\n",
        "def run_command(cmd, check=True, shell=False):\n",
        "    \"\"\"Helper function to run commands and handle errors\"\"\"\n",
        "    try:\n",
        "        print(f\"Executando comando: {' '.join(str(x) for x in cmd)}\")\n",
        "        result = subprocess.run(cmd, check=check, shell=shell,\n",
        "                            stdout=subprocess.PIPE,\n",
        "                            stderr=subprocess.PIPE,\n",
        "                            universal_newlines=True)\n",
        "        print(f\"Output: {result.stdout}\")\n",
        "        return result\n",
        "    except subprocess.CalledProcessError as e:\n",
        "        print(f\"Command failed: {' '.join(str(x) for x in cmd)}\")\n",
        "        print(f\"Error output: {e.stderr}\")\n",
        "        return None\n",
        "\n",
        "def clone_repository():\n",
        "    \"\"\"Clone the GitHub repository if in Colab\"\"\"\n",
        "    if IN_COLAB:\n",
        "        # Change to /content directory\n",
        "        os.chdir('/content')\n",
        "\n",
        "        # Remove existing directory if it exists\n",
        "        if os.path.exists('/content/Anomaly_Detect_LSTM_VAE'):\n",
        "            print(\"Removing existing repository...\")\n",
        "            shutil.rmtree('/content/Anomaly_Detect_LSTM_VAE')\n",
        "\n",
        "        print(\"Cloning repository...\")\n",
        "        # Clone the repository\n",
        "        cmd = [\"git\", \"clone\", \"https://github.com/paya54/Anomaly_Detect_LSTM_VAE.git\"]\n",
        "        result = run_command(cmd)\n",
        "\n",
        "        if result is None or result.returncode != 0:\n",
        "            print(\"Failed to clone repository\")\n",
        "            return False\n",
        "\n",
        "        # Verify the repository was cloned\n",
        "        if not os.path.exists('/content/Anomaly_Detect_LSTM_VAE'):\n",
        "            print(\"Repository directory not found after cloning\")\n",
        "            return False\n",
        "\n",
        "        print(\"Repository cloned successfully\")\n",
        "        # Change to the repository directory\n",
        "        os.chdir('/content/Anomaly_Detect_LSTM_VAE')\n",
        "        return True\n",
        "    return True\n",
        "\n",
        "def get_project_dir():\n",
        "    \"\"\"Get the project directory in Google Colab or local environment\"\"\"\n",
        "    if IN_COLAB:\n",
        "        # In Colab, project should be in /content after cloning\n",
        "        colab_path = Path('/content/Anomaly_Detect_LSTM_VAE')\n",
        "        print(f\"Checking Colab path: {colab_path}\")\n",
        "        print(f\"Path exists: {colab_path.exists()}\")\n",
        "        if colab_path.exists():\n",
        "            req_file = colab_path / 'requirements.txt'\n",
        "            print(f\"Requirements file exists: {req_file.exists()}\")\n",
        "            if req_file.exists():\n",
        "                return colab_path\n",
        "        print(\"Project directory not found in Colab\")\n",
        "        print(\"Current directory:\", os.getcwd())\n",
        "        print(\"Directory contents:\", os.listdir())\n",
        "        return None\n",
        "    else:\n",
        "        # Local development paths\n",
        "        potential_locations = [\n",
        "            Path('C:/Users/Augusto-PC/Documents/GitHub/LSTM'),\n",
        "            Path(os.getcwd()),\n",
        "            Path(os.path.expanduser('~/LSTM'))\n",
        "        ]\n",
        "\n",
        "        for location in potential_locations:\n",
        "            try:\n",
        "                if location.exists() and (location / 'requirements.txt').exists():\n",
        "                    return location\n",
        "            except Exception:\n",
        "                continue\n",
        "\n",
        "        print(\"Could not find project directory containing requirements.txt\")\n",
        "        return None\n",
        "\n",
        "def setup_environment():\n",
        "    \"\"\"Setup the Python environment with required packages\"\"\"\n",
        "    if IN_COLAB:\n",
        "        print(\"Running in Google Colab environment\")\n",
        "        # Clone repository first if in Colab\n",
        "        if not clone_repository():\n",
        "            return False\n",
        "\n",
        "    project_dir = get_project_dir()\n",
        "    if project_dir is None:\n",
        "        print(\"Failed to locate project directory\")\n",
        "        return False\n",
        "\n",
        "    print(f\"Found project directory at: {project_dir}\")\n",
        "\n",
        "    # Install requirements\n",
        "    requirements_file = project_dir / 'requirements.txt'\n",
        "    if requirements_file.exists():\n",
        "        print(\"Installing requirements...\")\n",
        "        cmd = [sys.executable, \"-m\", \"pip\", \"install\", \"-r\", str(requirements_file)]\n",
        "        result = run_command(cmd)\n",
        "        if result is None:\n",
        "            return False\n",
        "    else:\n",
        "        print(f\"Requirements file not found at {requirements_file}\")\n",
        "        return False\n",
        "\n",
        "    return True\n",
        "\n",
        "def run_notebook(project_dir):\n",
        "    \"\"\"Run the main notebook\"\"\"\n",
        "    notebook_path = project_dir / 'LSTM_VAE com ajustes.ipynb'\n",
        "    if not notebook_path.exists():\n",
        "        print(f\"Notebook not found at {notebook_path}\")\n",
        "        return\n",
        "\n",
        "    print(f\"Running notebook: {notebook_path}\")\n",
        "    cmd = [\"jupyter\", \"nbconvert\",\n",
        "           \"--to\", \"notebook\",\n",
        "           \"--execute\",\n",
        "           \"--inplace\",\n",
        "           str(notebook_path)]\n",
        "    run_command(cmd)\n",
        "\n",
        "if __name__ == '__main__':\n",
        "    if setup_environment():\n",
        "        project_dir = get_project_dir()\n",
        "        if project_dir:\n",
        "            run_notebook(project_dir)"
      ]
    }
  ],
  "metadata": {
    "kernelspec": {
      "display_name": "Python 3 (ipykernel)",
      "language": "python",
      "name": "python3"
    },
    "language_info": {
      "codemirror_mode": {
        "name": "ipython",
        "version": 3
      },
      "file_extension": ".py",
      "mimetype": "text/x-python",
      "name": "python",
      "nbconvert_exporter": "python",
      "pygments_lexer": "ipython3",
      "version": "3.12.7"
    },
    "colab": {
      "provenance": []
    }
  },
  "nbformat": 4,
  "nbformat_minor": 5
}